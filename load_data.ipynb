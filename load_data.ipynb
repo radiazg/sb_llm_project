{
 "cells": [
  {
   "cell_type": "markdown",
   "metadata": {},
   "source": [
    "# Generar datos en DB Vectorial"
   ]
  },
  {
   "cell_type": "code",
   "execution_count": 39,
   "metadata": {},
   "outputs": [],
   "source": [
    "import streamlit as st\n",
    "from langchain_google_genai import GoogleGenerativeAIEmbeddings\n",
    "from langchain_community.vectorstores import Chroma, FAISS\n",
    "from langchain.text_splitter import RecursiveCharacterTextSplitter\n",
    "from langchain_community.document_loaders import SpiderLoader, PyPDFLoader, WebBaseLoader, DirectoryLoader\n",
    "from langchain_community.document_loaders.merge import MergedDataLoader\n",
    "from langchain_community.vectorstores.utils import filter_complex_metadata\n",
    "import os\n"
   ]
  },
  {
   "cell_type": "markdown",
   "metadata": {},
   "source": [
    "### Prepara entorno para generar datos"
   ]
  },
  {
   "cell_type": "code",
   "execution_count": 44,
   "metadata": {},
   "outputs": [],
   "source": [
    "FAISS_PATH = \"/Users/rdiaz/OneDrive/10_Codigofacilito/03_Bootcamp_llms/10_project/sb_llm_project/faiss_data\"\n",
    "DIR_PATH_TXT = \"/Users/rdiaz/OneDrive/10_Codigofacilito/03_Bootcamp_llms/10_project/sb_llm_project/data/txt\"\n",
    "DIR_PATH_CSV = '/Users/rdiaz/OneDrive/10_Codigofacilito/03_Bootcamp_llms/10_project/sb_llm_project/data/csv'\n",
    "\n",
    "os.environ['GEMINI_API_KEY'] = st.secrets[\"google_gemini\"][\"api_key_gemini\"]"
   ]
  },
  {
   "cell_type": "markdown",
   "metadata": {},
   "source": [
    "### Genera loaders que cargan datos de PDFs"
   ]
  },
  {
   "cell_type": "code",
   "execution_count": 41,
   "metadata": {},
   "outputs": [],
   "source": [
    "#loader_txt = DirectoryLoader(DIR_PATH_TXT, glob=\"*.txt\")\n",
    "loader_csv = DirectoryLoader(DIR_PATH_CSV, glob=\"*.csv\")\n",
    "loader_pdf1 = PyPDFLoader(\"data/pdf/Modelado_Eval.pdf\", extract_images=False)\n",
    "loader_pdf2 = PyPDFLoader(\"data/pdf/Proyecto_ML-SECOP.pdf\", extract_images=False)\n"
   ]
  },
  {
   "cell_type": "markdown",
   "metadata": {},
   "source": [
    "### Genera Chunks de los documentos\n",
    "Realiza merge de los loaders de los documentos y genera chunks"
   ]
  },
  {
   "cell_type": "code",
   "execution_count": 42,
   "metadata": {},
   "outputs": [],
   "source": [
    "loader_docs = MergedDataLoader(loaders=[loader_pdf1, loader_pdf2])\n",
    "documents = loader_docs.load()\n",
    "docs_processed = filter_complex_metadata(documents)\n",
    "\n",
    "text_splitter = RecursiveCharacterTextSplitter(\n",
    "    chunk_size=1000,\n",
    "    chunk_overlap=100,\n",
    "    length_function=len,\n",
    "    add_start_index=True\n",
    ")\n",
    "chunks = text_splitter.split_documents(documents)"
   ]
  },
  {
   "cell_type": "markdown",
   "metadata": {},
   "source": [
    "### Genera datos en DB Vectorial\n",
    "Genera Embedding con Gemini y guarda datos en la base de datos vectorial FAISS"
   ]
  },
  {
   "cell_type": "code",
   "execution_count": 43,
   "metadata": {},
   "outputs": [
    {
     "name": "stderr",
     "output_type": "stream",
     "text": [
      "I0000 00:00:1722809743.576486  206504 check_gcp_environment_no_op.cc:29] ALTS: Platforms other than Linux and Windows are not supported\n"
     ]
    }
   ],
   "source": [
    "db = FAISS.from_documents(chunks, GoogleGenerativeAIEmbeddings(model=\"models/embedding-001\"))\n",
    "db.save_local(FAISS_PATH)"
   ]
  }
 ],
 "metadata": {
  "kernelspec": {
   "display_name": "venv",
   "language": "python",
   "name": "python3"
  },
  "language_info": {
   "codemirror_mode": {
    "name": "ipython",
    "version": 3
   },
   "file_extension": ".py",
   "mimetype": "text/x-python",
   "name": "python",
   "nbconvert_exporter": "python",
   "pygments_lexer": "ipython3",
   "version": "3.12.4"
  }
 },
 "nbformat": 4,
 "nbformat_minor": 2
}
